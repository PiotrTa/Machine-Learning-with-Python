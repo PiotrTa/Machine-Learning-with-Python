{
 "cells": [
  {
   "cell_type": "markdown",
   "metadata": {},
   "source": [
    "# Dimensionality Reduction\n",
    "Given the data in the matrix X we will:\n",
    "* Calculate the covariance matrix $\\Sigma$.\n",
    "* Calculate eigenvalues and eigenvectors of $\\Sigma$.\n",
    "* Plot the original data $X$ and the eigenvectors to a single diagram.\n",
    "* Determine the smallest eigenvalue and remove its corresponding eigenvector. The remaining eigenvector is the basis of a new subspace.\n",
    "* Transform all vectors in X in this new subspace by expressing all vectors in X in this new basis.\t"
   ]
  },
  {
   "cell_type": "code",
   "execution_count": 10,
   "metadata": {
    "collapsed": true
   },
   "outputs": [],
   "source": [
    "import numpy as np\n",
    "import matplotlib.pyplot as plt\n",
    "\n",
    "%matplotlib inline"
   ]
  },
  {
   "cell_type": "markdown",
   "metadata": {},
   "source": [
    "##  PCA (Principal component analysis)\n"
   ]
  },
  {
   "cell_type": "markdown",
   "metadata": {},
   "source": [
    "### Sample data array"
   ]
  },
  {
   "cell_type": "code",
   "execution_count": 5,
   "metadata": {
    "collapsed": true
   },
   "outputs": [],
   "source": [
    "X = np.array([(-3,-2),(-2,-1),(-1,0),(0,1),\n",
    "              (1,2),(2,3),(-2,-2),(-1,-1),\n",
    "              (0,0),(1,1),(2,2), (-2,-3),\n",
    "              (-1,-2),(0,-1),(1,0), (2,1),(3,2)])"
   ]
  },
  {
   "cell_type": "markdown",
   "metadata": {},
   "source": [
    "### The covariance matrix $\\Sigma$\n",
    "<b>Parameters:</b><br />\n",
    "<i>X</i>: array, shape [N, D] (Data matrix)<br />\n",
    "<b>Returns:</b><br />\n",
    "<i>Sigma</i> : array, shape [D, D] (Covariance matrix)"
   ]
  },
  {
   "cell_type": "code",
   "execution_count": 6,
   "metadata": {
    "collapsed": true
   },
   "outputs": [],
   "source": [
    "def get_covariance(X):\n",
    "    \n",
    "    X_T = np.transpose(X)\n",
    "    Sigma = np.dot(X_T,X)\n",
    "    \n",
    "    return Sigma"
   ]
  },
  {
   "cell_type": "markdown",
   "metadata": {},
   "source": [
    "### Eigenvalues and eigenvectors of  $\\Sigma$.\n",
    "Calculates the eigenvalues and eigenvectors of the input matrix.<br/>\n",
    "<b>Parameters:</b><br />\n",
    "<i>S</i>: array, shape [D, D] (Square symmetric positive definite matrix.)<br />\n",
    "<b>Returns:</b><br />\n",
    "<i>L</i> : array, shape [D] (Eigenvalues of S)<br />\n",
    "<i>U</i> : array, shape [D, D] (Eigenvectors of S)"
   ]
  },
  {
   "cell_type": "code",
   "execution_count": 7,
   "metadata": {
    "collapsed": true
   },
   "outputs": [],
   "source": [
    "def get_eigen(S):\n",
    "    \n",
    "    L, v = np.linalg.eig(S)\n",
    "    \n",
    "    return L, v"
   ]
  },
  {
   "cell_type": "markdown",
   "metadata": {},
   "source": [
    "### Plot: Original data X and the Eigenvectors."
   ]
  },
  {
   "cell_type": "code",
   "execution_count": 9,
   "metadata": {},
   "outputs": [
    {
     "data": {
      "image/png": "[encoded data removed]",
      "text/plain": [
       "<matplotlib.figure.Figure at 0x25fc5b4f048>"
      ]
     },
     "metadata": {},
     "output_type": "display_data"
    }
   ],
   "source": [
    "plt.scatter(X[:, 0], X[:, 1])# plot the original data\n",
    "mean_d1, mean_d2 = X.mean(0)# plot the mean of the data\n",
    "plt.plot(mean_d1, mean_d2, 'o', markersize=10, color='red', alpha=0.5)\n",
    "Sigma = get_covariance(X)# calculate the covariance matrix\n",
    "L, U = get_eigen(Sigma) # calculate the eigenvector and eigenvalues of Sigma\n",
    "\n",
    "plt.arrow(mean_d1, mean_d2, U[0, 0], U[0, 1], width=0.01, color='red', alpha=0.5)\n",
    "plt.arrow(mean_d1, mean_d2, U[1, 0], U[1, 1], width=0.01, color='red', alpha=0.5);"
   ]
  },
  {
   "cell_type": "markdown",
   "metadata": {},
   "source": [
    "The vector pointing downwards corresponds to the smallest eigenvalue. The variance in this direction is\n",
    "smaller than in the direction of the second eigenvector."
   ]
  },
  {
   "cell_type": "markdown",
   "metadata": {},
   "source": [
    "### Transforming the data"
   ]
  },
  {
   "cell_type": "markdown",
   "metadata": {},
   "source": [
    "We determine the smallest eigenvalue and remove its corresponding eigenvector. The remaining eigenvector is the basis of a new subspace. We transform all vectors in X in this new subspace by expressing all vectors in X in this new basis.<br />\n",
    "<b>Parameters:</b><br />\n",
    "<i>X</i> : array, shape [N, D] (Data matrix.)<br />\n",
    "<i>L</i> : array, shape [D] (Eigenvalues of Sigma_X)<br />\n",
    "<i>U</i> : array, shape [D, D] (Eigenvectors of Sigma_X)<br />\n",
    "<b>Returns:</b><br />\n",
    "X_t : array, shape [N, 1] (Transformed data)\n",
    "\n",
    "\n",
    "\n"
   ]
  },
  {
   "cell_type": "code",
   "execution_count": 11,
   "metadata": {
    "collapsed": true
   },
   "outputs": [],
   "source": [
    "def transform(X, U, L):\n",
    "    \n",
    "    Max_eig_val = np.argmax(L)\n",
    "    Min_eig_val = np.argmin(L)\n",
    "    U=U[:,Max_eig_val]\n",
    "    X_t=np.dot(X,U)\n",
    "    Y=np.zeros(X_t.shape)\n",
    "    plt.scatter(X_t,Y)\n",
    "    \n",
    "    return X_t"
   ]
  },
  {
   "cell_type": "code",
   "execution_count": 12,
   "metadata": {},
   "outputs": [
    {
     "data": {
      "image/png": "[encoded data removed]",
      "text/plain": [
       "<matplotlib.figure.Figure at 0x25fc5fc8358>"
      ]
     },
     "metadata": {},
     "output_type": "display_data"
    }
   ],
   "source": [
    "X_t = transform(X, U, L)"
   ]
  },
  {
   "cell_type": "markdown",
   "metadata": {},
   "source": [
    "## SVD (Singular value decomposition)"
   ]
  },
  {
   "cell_type": "markdown",
   "metadata": {},
   "source": [
    "### Given the matrix $M$, we find its SVD decomposition $M= U \\cdot \\Sigma \\cdot V$ and reduce it to one dimension using SVD\n",
    "<b>Parameters:</b><br />\n",
    "<i>M</i> : array, shape [N, D] (Input matrix.)<br />\n",
    "<b>Returns:</b><br />\n",
    "<i>M_t</i> : array, shape [N, 1] (Reduced matrix)"
   ]
  },
  {
   "cell_type": "code",
   "execution_count": 16,
   "metadata": {},
   "outputs": [
    {
     "data": {
      "text/plain": [
       "<matplotlib.collections.PathCollection at 0x25fc5dd39b0>"
      ]
     },
     "execution_count": 16,
     "metadata": {},
     "output_type": "execute_result"
    },
    {
     "data": {
      "image/png": "[encoded data removed]",
      "text/plain": [
       "<matplotlib.figure.Figure at 0x25fc607f390>"
      ]
     },
     "metadata": {},
     "output_type": "display_data"
    }
   ],
   "source": [
    "M = np.array([[1, 2], [6, 3],[0, 2]])\n",
    "plt.scatter(M[:, 0], M[:, 1])# plot the original data"
   ]
  },
  {
   "cell_type": "code",
   "execution_count": 14,
   "metadata": {
    "collapsed": true
   },
   "outputs": [],
   "source": [
    "def reduce_to_one_dimension(M):\n",
    "\n",
    "    U,S,V=np.linalg.svd(M,False)\n",
    "    min_s_val=np.argmin(S)\n",
    "    U=np.delete(U,min_s_val,axis=1)\n",
    "    S=np.delete(S,min_s_val,axis=0)\n",
    "    M_t=np.dot(U,S)\n",
    "    Y=np.zeros(M_t.shape)\n",
    "    plt.scatter(M_t,Y)\n",
    "    \n",
    "    return M_t"
   ]
  },
  {
   "cell_type": "code",
   "execution_count": 15,
   "metadata": {},
   "outputs": [
    {
     "data": {
      "image/png": "[encoded data removed]",
      "text/plain": [
       "<matplotlib.figure.Figure at 0x25fc5fc83c8>"
      ]
     },
     "metadata": {},
     "output_type": "display_data"
    }
   ],
   "source": [
    "M_t = reduce_to_one_dimension(M)"
   ]
  }
 ],
 "metadata": {
  "anaconda-cloud": {},
  "kernelspec": {
   "display_name": "Python 3",
   "language": "python",
   "name": "python3"
  },
  "language_info": {
   "codemirror_mode": {
    "name": "ipython",
    "version": 3
   },
   "file_extension": ".py",
   "mimetype": "text/x-python",
   "name": "python",
   "nbconvert_exporter": "python",
   "pygments_lexer": "ipython3",
   "version": "3.6.1"
  },
  "toc": {
   "colors": {
    "hover_highlight": "#DAA520",
    "navigate_num": "#000000",
    "navigate_text": "#333333",
    "running_highlight": "#FF0000",
    "selected_highlight": "#FFD700",
    "sidebar_border": "#EEEEEE",
    "wrapper_background": "#FFFFFF"
   },
   "moveMenuLeft": true,
   "nav_menu": {
    "height": "48px",
    "width": "252px"
   },
   "navigate_menu": true,
   "number_sections": true,
   "sideBar": true,
   "threshold": 4,
   "toc_cell": false,
   "toc_section_display": "block",
   "toc_window_display": false,
   "widenNotebook": false
  }
 },
 "nbformat": 4,
 "nbformat_minor": 2
}
