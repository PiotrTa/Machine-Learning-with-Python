{
 "cells": [
  {
   "cell_type": "markdown",
   "metadata": {},
   "source": [
    "# Optimization in Logistic Regression\n",
    "\n",
    "Comparison of logistic regression algorithms regularized vs. non-regularized and full vs. mini batch optimization. We use Numpy, Scikit learn and built-in Python functions.We are working with the UCI ML Breast Cancer Wisconsin (Diagnostic) dataset https://goo.gl/U2Uwz2.\n",
    "\n",
    "Features are computed from a digitized image of a fine needle aspirate (FNA) of a breast mass. They describe characteristics of the cell nuclei present in the image. There are 212 malignant examples and 357 benign examples."
   ]
  },
  {
   "cell_type": "code",
   "execution_count": 33,
   "metadata": {
    "collapsed": true
   },
   "outputs": [],
   "source": [
    "import numpy as np\n",
    "import matplotlib.pyplot as plt\n",
    "%matplotlib inline\n",
    "\n",
    "from sklearn.datasets import load_breast_cancer\n",
    "from sklearn.model_selection import train_test_split\n",
    "from sklearn.metrics import accuracy_score, f1_score"
   ]
  },
  {
   "cell_type": "markdown",
   "metadata": {},
   "source": [
    "## Load and preprocess the data "
   ]
  },
  {
   "cell_type": "code",
   "execution_count": 34,
   "metadata": {
    "collapsed": true
   },
   "outputs": [],
   "source": [
    "X, y = load_breast_cancer(return_X_y=True)\n",
    "X = np.hstack([np.ones([X.shape[0], 1]), X]) # By adding a vector of ones, we absorb the bias term\n",
    "np.random.seed(0) # Random seed\n",
    "test_size = 0.3 # Split the data into train and test 70 / 30 %\n",
    "X_train, X_test, y_train, y_test = train_test_split(X, y, test_size=test_size)"
   ]
  },
  {
   "cell_type": "markdown",
   "metadata": {},
   "source": [
    "## The sigmoid function "
   ]
  },
  {
   "cell_type": "code",
   "execution_count": 35,
   "metadata": {
    "collapsed": true
   },
   "outputs": [],
   "source": [
    "def sigmoid(t):\n",
    "    \n",
    "    sigmoid_t = 1 / (1 + (np.exp(-t)))\n",
    "    \n",
    "    return sigmoid_t"
   ]
  },
  {
   "cell_type": "markdown",
   "metadata": {},
   "source": [
    "## The negative log likelihood (NLL)"
   ]
  },
  {
   "cell_type": "code",
   "execution_count": 36,
   "metadata": {
    "collapsed": true
   },
   "outputs": [],
   "source": [
    "def negative_log_likelihood(X, y, w):\n",
    "\n",
    "    sig = sigmoid(X.dot(w))\n",
    "    \n",
    "    return -1*(y.T.dot(np.log(sig)) + (1-y).T.dot(np.log(1-sig)))"
   ]
  },
  {
   "cell_type": "markdown",
   "metadata": {},
   "source": [
    "## The gradient of the NLL w.r.t w\n",
    "Calculates the gradient (full or mini-batch) of the negative log likelilhood with respect to the weights w. <br />\n",
    "<b>Parameters:</b><br />\n",
    "<i>X </i>: array, shape [N, D] (Augmented feature matrix) <br />\n",
    "<i>y </i>: array, shape [N] (Classification targets)<br />\n",
    "<i>w </i>: array, shape [D] (Regression coefficients (w[0] is the bias term).)<br />\n",
    "<i>mini_batch_indices</i>: array, shape [mini_batch_size] (The indices of the data points to be included in the (stochastic) calculation of the gradient.)<br />\n",
    "<i>lmbda</i>: float (Regularization strength. lmbda = 0 means having no regularization.)<br /> \n",
    "<b>Returns:</b><br />\n",
    "<i>dw</i>: float, shape [D] (Gradient with respect to the weights)"
   ]
  },
  {
   "cell_type": "code",
   "execution_count": 38,
   "metadata": {
    "collapsed": true
   },
   "outputs": [],
   "source": [
    "def get_gradient(X, y, w, mini_batch_indices, lmbda):\n",
    "\n",
    "    x_mini_batch = X[mini_batch_indices,:]\n",
    "    y_mini_batch = y[mini_batch_indices]\n",
    "    \n",
    "    return x_mini_batch.T.dot(sigmoid(x_mini_batch.dot(w))-y_mini_batch) + 2*lmbda*w"
   ]
  },
  {
   "cell_type": "markdown",
   "metadata": {},
   "source": [
    "## Perfoming logistic regression\n",
    "\n",
    "<b>Parameters:</b><br />\n",
    "<i>X </i>: array, shape [N, D] (Augmented feature matrix) <br />\n",
    "<i>y </i>: array, shape [N] (Classification targets)<br />\n",
    "<i>num_steps </i>: int (Number of steps of gradient descent to perform)<br />\n",
    "<i>learning_rate</i>: float (The learning rate to use when updating the weights)<br />\n",
    "<i>mini_batch_size</i>: float (The number of examples in each mini-batch. If mini_batch_size=n_train we perform full batch gradient descent.)<br /> \n",
    "<i>lmbda</i>: float (Regularization strength. lmbda = 0 means having no regularization.)<br /> \n",
    "\n",
    "<b>Returns:</b><br />\n",
    "<i>w</i>: float, shape [D] (Optimal regression coefficients (w[0] is the bias term).)<br /> \n",
    "<i>trace</i>: list (Trace of the negative log likelihood after each step of gradient descent.)"
   ]
  },
  {
   "cell_type": "code",
   "execution_count": 39,
   "metadata": {
    "collapsed": true
   },
   "outputs": [],
   "source": [
    "def logistic_regression(X, y, num_steps, learning_rate, mini_batch_size, lmbda):\n",
    "\n",
    "    trace = [] # saves the value of the log likelihood at each step to be able to plot it later\n",
    "    n_train = X.shape[0] # number of training instances\n",
    "    w = np.zeros(X.shape[1]) # initialize the parameters to zeros\n",
    "    \n",
    "    # run gradient descent for a given number of steps\n",
    "    for step in range(num_steps):\n",
    "        \n",
    "        permuted_idx = np.random.permutation(n_train) # shuffle the data\n",
    "        \n",
    "        # go over each mini-batch and update the paramters\n",
    "        for idx in range(0, n_train, mini_batch_size):\n",
    "            \n",
    "            # get the random indices to be included in the mini batch\n",
    "            mini_batch_indices = permuted_idx[idx:idx+mini_batch_size]\n",
    "            \n",
    "            gradient = get_gradient(X, y, w, mini_batch_indices, lmbda)\n",
    "\n",
    "            # update the parameters\n",
    "            w = w - learning_rate * gradient\n",
    "\n",
    "            # calculate and save the negative log likelihood\n",
    "            nnl = negative_log_likelihood(X, y, w)\n",
    "            trace.append(nnl)\n",
    "        \n",
    "        # print the negative log likelihood every 10th iteration to monitor the progress\n",
    "        #if step % 10 == 0:\n",
    "            #print(nnl)\n",
    "        \n",
    "    return w, trace"
   ]
  },
  {
   "cell_type": "markdown",
   "metadata": {},
   "source": [
    "## The function to obtain predictions\n",
    "<b>Parameters:</b><br />\n",
    "<i>X</i>: array, shape [N_test, D] (Augmented feature matrix) <br />\n",
    "<i>w</i>: array, shape [D] (Regression weights (w[0] is the bias term).) <br />\n",
    "\n",
    "<b>Returns:</b><br />\n",
    "<i>y_pred</i> : array, shape [N_test] (A binary array of predictions.) <br />"
   ]
  },
  {
   "cell_type": "code",
   "execution_count": 40,
   "metadata": {
    "collapsed": true
   },
   "outputs": [],
   "source": [
    "def predict(X, w):\n",
    "    \n",
    "    y_pred = sigmoid(X.dot(w))>0.5\n",
    "    \n",
    "    return y_pred"
   ]
  },
  {
   "cell_type": "markdown",
   "metadata": {},
   "source": [
    "# Full batch gradient descent without regularization\n",
    "$$Regularization = 0$$\n",
    "$$Batch = Full $$"
   ]
  },
  {
   "cell_type": "code",
   "execution_count": 41,
   "metadata": {
    "scrolled": true
   },
   "outputs": [],
   "source": [
    "n_train = X_train.shape[0]\n",
    "w, trace = logistic_regression(X_train, y_train, num_steps=8000, learning_rate=1e-8, mini_batch_size=n_train, lmbda=0.0)"
   ]
  },
  {
   "cell_type": "code",
   "execution_count": 42,
   "metadata": {
    "scrolled": true
   },
   "outputs": [
    {
     "name": "stdout",
     "output_type": "stream",
     "text": [
      "accuracy: 0.94, f1_score: 0.95\n"
     ]
    },
    {
     "data": {
      "image/png": "[encoded data removed]",
      "text/plain": [
       "<matplotlib.figure.Figure at 0x2361bec2c18>"
      ]
     },
     "metadata": {},
     "output_type": "display_data"
    }
   ],
   "source": [
    "plt.plot(trace)\n",
    "y_pred = predict(X_test, w)\n",
    "print('accuracy: {:.2f}, f1_score: {:.2f}'.format(accuracy_score(y_test, y_pred), f1_score(y_test, y_pred)))"
   ]
  },
  {
   "cell_type": "markdown",
   "metadata": {
    "collapsed": true
   },
   "source": [
    "# Full batch gradient descent with regularization\n",
    "$$Regularization = 0.001$$\n",
    "$$Batch = Full $$"
   ]
  },
  {
   "cell_type": "code",
   "execution_count": 43,
   "metadata": {
    "collapsed": true,
    "scrolled": true
   },
   "outputs": [],
   "source": [
    "w, trace = logistic_regression(X_train, y_train, num_steps=8000, learning_rate=1e-8, mini_batch_size=n_train, lmbda=1e-3)"
   ]
  },
  {
   "cell_type": "code",
   "execution_count": 44,
   "metadata": {},
   "outputs": [
    {
     "name": "stdout",
     "output_type": "stream",
     "text": [
      "accuracy: 0.94, f1_score: 0.95\n"
     ]
    },
    {
     "data": {
      "image/png": "[encoded data removed]",
      "text/plain": [
       "<matplotlib.figure.Figure at 0x2361bea8f60>"
      ]
     },
     "metadata": {},
     "output_type": "display_data"
    }
   ],
   "source": [
    "plt.plot(trace)\n",
    "y_pred = predict(X_test, w)\n",
    "\n",
    "print('accuracy: {:.2f}, f1_score: {:.2f}'.format(accuracy_score(y_test, y_pred), f1_score(y_test, y_pred)))"
   ]
  },
  {
   "cell_type": "markdown",
   "metadata": {},
   "source": [
    "# Mini-batch gradient descent without regularization\n",
    "$$Regularization = 0$$\n",
    "$$Batch = 10 $$"
   ]
  },
  {
   "cell_type": "code",
   "execution_count": 48,
   "metadata": {
    "collapsed": true,
    "scrolled": true
   },
   "outputs": [],
   "source": [
    "w, trace = logistic_regression(X_train, y_train, num_steps=2000, learning_rate=1e-8, mini_batch_size=10, lmbda=0)"
   ]
  },
  {
   "cell_type": "code",
   "execution_count": 49,
   "metadata": {},
   "outputs": [
    {
     "name": "stdout",
     "output_type": "stream",
     "text": [
      "accuracy: 0.92, f1_score: 0.94\n"
     ]
    },
    {
     "data": {
      "image/png": "[encoded data removed]",
      "text/plain": [
       "<matplotlib.figure.Figure at 0x2361ae4f160>"
      ]
     },
     "metadata": {},
     "output_type": "display_data"
    }
   ],
   "source": [
    "plt.plot(trace)\n",
    "y_pred = predict(X_test, w)\n",
    "\n",
    "print('accuracy: {:.2f}, f1_score: {:.2f}'.format(accuracy_score(y_test, y_pred), f1_score(y_test, y_pred)))"
   ]
  },
  {
   "cell_type": "markdown",
   "metadata": {},
   "source": [
    "# Mini-batch gradient descent with regularization\n",
    "$$Regularization = 0.001$$\n",
    "$$Batch = 10 $$"
   ]
  },
  {
   "cell_type": "code",
   "execution_count": 50,
   "metadata": {
    "collapsed": true,
    "scrolled": true
   },
   "outputs": [],
   "source": [
    "w, trace = logistic_regression(X_train, y_train, num_steps=2000, learning_rate=1e-8, mini_batch_size=10, lmbda=1e-3)"
   ]
  },
  {
   "cell_type": "code",
   "execution_count": 51,
   "metadata": {},
   "outputs": [
    {
     "name": "stdout",
     "output_type": "stream",
     "text": [
      "accuracy: 0.92, f1_score: 0.94\n"
     ]
    },
    {
     "data": {
      "image/png": "[encoded data removed]",
      "text/plain": [
       "<matplotlib.figure.Figure at 0x2361c28db00>"
      ]
     },
     "metadata": {},
     "output_type": "display_data"
    }
   ],
   "source": [
    "plt.plot(trace)\n",
    "y_pred = predict(X_test, w)\n",
    "\n",
    "print('accuracy: {:.2f}, f1_score: {:.2f}'.format(accuracy_score(y_test, y_pred), f1_score(y_test, y_pred)))"
   ]
  }
 ],
 "metadata": {
  "anaconda-cloud": {},
  "kernelspec": {
   "display_name": "Python 3",
   "language": "python",
   "name": "python3"
  },
  "language_info": {
   "codemirror_mode": {
    "name": "ipython",
    "version": 3
   },
   "file_extension": ".py",
   "mimetype": "text/x-python",
   "name": "python",
   "nbconvert_exporter": "python",
   "pygments_lexer": "ipython3",
   "version": "3.6.1"
  }
 },
 "nbformat": 4,
 "nbformat_minor": 1
}
