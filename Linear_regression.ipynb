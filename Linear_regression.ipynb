{
  "nbformat": 4,
  "nbformat_minor": 0,
  "metadata": {
    "colab": {
      "name": "Linear regression.ipynb",
      "version": "0.3.2",
      "provenance": [],
      "collapsed_sections": []
    },
    "kernelspec": {
      "display_name": "Python [conda env:rml]",
      "language": "python",
      "name": "conda-env-rml-py"
    }
  },
  "cells": [
    {
      "metadata": {
        "id": "bdhQBV4ytNrK",
        "colab_type": "text"
      },
      "cell_type": "markdown",
      "source": [
        "# Linear regression\n",
        "\n",
        "In this code we use Numpy and the built-in Python functions to perform linear regression. We compare the classic least square regression and ridge regression."
      ]
    },
    {
      "metadata": {
        "id": "myYXZtmvtNrN",
        "colab_type": "code",
        "colab": {}
      },
      "cell_type": "code",
      "source": [
        "import numpy as np\n",
        "from sklearn.datasets import load_boston\n",
        "from sklearn.model_selection import train_test_split"
      ],
      "execution_count": 0,
      "outputs": []
    },
    {
      "metadata": {
        "id": "cIQVGGaCtNrZ",
        "colab_type": "text"
      },
      "cell_type": "markdown",
      "source": [
        "## Load and preprocess the data"
      ]
    },
    {
      "metadata": {
        "id": "qAwU9q6dtNra",
        "colab_type": "text"
      },
      "cell_type": "markdown",
      "source": [
        "In this implementation we will work with the Boston Housing Dataset. The data consists of 506 samples. Each sample represents a district in the city of Boston and has 13 features, such as crime rate or taxation level. The regression target is the median house price in the given district (in $1000's).\n",
        "\n",
        "More details can be found here: http://lib.stat.cmu.edu/datasets/boston"
      ]
    },
    {
      "metadata": {
        "id": "CxB0IMJwtNrc",
        "colab_type": "code",
        "colab": {}
      },
      "cell_type": "code",
      "source": [
        "X , y = load_boston(return_X_y=True)\n",
        "\n",
        "X = np.hstack([np.ones([X.shape[0], 1]), X])\n",
        "# From now on, D refers to the number of features in the AUGMENTED dataset (i.e. including the dummy '1' feature for the absorbed bias term)\n",
        "\n",
        "# Split into train and test\n",
        "test_size = 0.2\n",
        "X_train, X_test, y_train, y_test = train_test_split(X, y, test_size=test_size)"
      ],
      "execution_count": 0,
      "outputs": []
    },
    {
      "metadata": {
        "id": "GFdSs7DrtNrj",
        "colab_type": "text"
      },
      "cell_type": "markdown",
      "source": [
        "## Fit standard linear regression"
      ]
    },
    {
      "metadata": {
        "id": "zB2Cg8jltNrl",
        "colab_type": "code",
        "colab": {}
      },
      "cell_type": "code",
      "source": [
        "def fit_least_squares(X, y):\n",
        "  \n",
        "  X_trans = np.transpose(X)\n",
        "  X_mult = np.dot(X_trans,X)\n",
        "  X_mult_inv =np.linalg.pinv(X_mult)\n",
        "  X_n = np.dot(X_mult_inv,X_trans)\n",
        "  W = np.dot(X_n, y)\n",
        "  \n",
        "  return W"
      ],
      "execution_count": 0,
      "outputs": []
    },
    {
      "metadata": {
        "id": "sI6jGG7PtNrr",
        "colab_type": "text"
      },
      "cell_type": "markdown",
      "source": [
        "## Fit ridge regression"
      ]
    },
    {
      "metadata": {
        "id": "mL-1UlHrtNrt",
        "colab_type": "code",
        "colab": {}
      },
      "cell_type": "code",
      "source": [
        "def fit_ridge(X, y, reg_strength):\n",
        "  \n",
        "  X_trans = np.transpose(X)\n",
        "  X_mult = np.dot(X_trans,X)\n",
        "  I=np.identity(14)\n",
        "  lamb = np.dot(reg_strength,I)\n",
        "  X_add=np.add(X_mult,lamb)\n",
        "  X_mult_inv =np.linalg.pinv(X_add)\n",
        "  X_n = np.dot(X_mult_inv,X_trans)\n",
        "  w = np.dot(X_n, y)\n",
        "  \n",
        "  return w"
      ],
      "execution_count": 0,
      "outputs": []
    },
    {
      "metadata": {
        "id": "GFv88Y9ptNrz",
        "colab_type": "text"
      },
      "cell_type": "markdown",
      "source": [
        "## Generate predictions for new data"
      ]
    },
    {
      "metadata": {
        "id": "un58RzQRtNr0",
        "colab_type": "code",
        "colab": {}
      },
      "cell_type": "code",
      "source": [
        "def predict_linear_model(X, w):\n",
        "  \n",
        "  y_pred=np.dot(X,w)\n",
        "  \n",
        "  return y_pred"
      ],
      "execution_count": 0,
      "outputs": []
    },
    {
      "metadata": {
        "id": "2ikY5SVftNr4",
        "colab_type": "text"
      },
      "cell_type": "markdown",
      "source": [
        "## Mean squared error"
      ]
    },
    {
      "metadata": {
        "id": "La7VrLWGtNr4",
        "colab_type": "code",
        "colab": {}
      },
      "cell_type": "code",
      "source": [
        "def mean_squared_error(y_true, y_pred):\n",
        "  \n",
        "  Y=np.subtract(y_true,y_pred)\n",
        "  Y=np.multiply(Y,Y)\n",
        "  Y=np.sum(Y)\n",
        "  mse=Y/len(y_test)\n",
        "  \n",
        "  return mse"
      ],
      "execution_count": 0,
      "outputs": []
    },
    {
      "metadata": {
        "id": "hOVhDogftNr-",
        "colab_type": "text"
      },
      "cell_type": "markdown",
      "source": [
        "## Compare the two models"
      ]
    },
    {
      "metadata": {
        "id": "czbDELHstNr_",
        "colab_type": "code",
        "colab": {
          "base_uri": "https://localhost:8080/",
          "height": 50
        },
        "outputId": "acacff3d-e3bb-4f0f-cbcc-17ccb9a744b7"
      },
      "cell_type": "code",
      "source": [
        "# Load the data\n",
        "np.random.seed(1234)\n",
        "X , y = load_boston(return_X_y=True)\n",
        "X = np.hstack([np.ones([X.shape[0], 1]), X])\n",
        "test_size = 0.2\n",
        "X_train, X_test, y_train, y_test = train_test_split(X, y, test_size=test_size)\n",
        "\n",
        "# Ordinary least squares regression\n",
        "w_ls = fit_least_squares(X_train, y_train)\n",
        "y_pred_ls = predict_linear_model(X_test, w_ls)\n",
        "mse_ls = mean_squared_error(y_test, y_pred_ls)\n",
        "print('MSE for Least squares = {0}'.format(mse_ls))\n",
        "\n",
        "# Ridge regression\n",
        "reg_strength = 1\n",
        "w_ridge = fit_ridge(X_train, y_train, reg_strength)\n",
        "y_pred_ridge = predict_linear_model(X_test, w_ridge)\n",
        "mse_ridge = mean_squared_error(y_test, y_pred_ridge)\n",
        "print('MSE for Ridge regression = {0}'.format(mse_ridge))"
      ],
      "execution_count": 7,
      "outputs": [
        {
          "output_type": "stream",
          "text": [
            "MSE for Least squares = 23.9843076124\n",
            "MSE for Ridge regression = 21.0514870338\n"
          ],
          "name": "stdout"
        }
      ]
    }
  ]
}